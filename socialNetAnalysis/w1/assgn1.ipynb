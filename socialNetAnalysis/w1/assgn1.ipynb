{
 "cells": [
  {
   "cell_type": "code",
   "execution_count": 1,
   "metadata": {
    "collapsed": true
   },
   "outputs": [],
   "source": [
    "import networkx as nx\n",
    "import pandas as pd\n",
    "import numpy as np\n",
    "from networkx.algorithms import bipartite\n",
    "import matplotlib.pyplot as plt\n",
    "%matplotlib inline\n",
    "\n",
    "\n",
    "# This is the set of employees\n",
    "employees = set(['Pablo',\n",
    "                 'Lee',\n",
    "                 'Georgia',\n",
    "                 'Vincent',\n",
    "                 'Andy',\n",
    "                 'Frida',\n",
    "                 'Joan',\n",
    "                 'Claude'])\n",
    "\n",
    "# This is the set of movies\n",
    "movies = set(['The Shawshank Redemption',\n",
    "              'Forrest Gump',\n",
    "              'The Matrix',\n",
    "              'Anaconda',\n",
    "              'The Social Network',\n",
    "              'The Godfather',\n",
    "              'Monty Python and the Holy Grail',\n",
    "              'Snakes on a Plane',\n",
    "              'Kung Fu Panda',\n",
    "              'The Dark Knight',\n",
    "              'Mean Girls'])\n",
    "\n",
    "\n",
    "# you can use the following function to plot graphs\n",
    "# make sure to comment it out before submitting to the autograder\n",
    "def plot_graph(G, weight_name=None):\n",
    "    '''\n",
    "    G: a networkx G\n",
    "    weight_name: name of the attribute for plotting edge weights (if G is weighted)\n",
    "    '''\n",
    "    %matplotlib notebook\n",
    "    import matplotlib.pyplot as plt\n",
    "    \n",
    "    plt.figure()\n",
    "    pos = nx.spring_layout(G)\n",
    "    edges = G.edges()\n",
    "    weights = None\n",
    "    \n",
    "    if weight_name:\n",
    "        weights = [int(G[u][v][weight_name]) for u,v in edges]\n",
    "        labels = nx.get_edge_attributes(G,weight_name)\n",
    "        nx.draw_networkx_edge_labels(G,pos,edge_labels=labels)\n",
    "        nx.draw_networkx(G, pos, edges=edges, width=weights);\n",
    "    else:\n",
    "        nx.draw_networkx(G, pos, edges=edges);"
   ]
  },
  {
   "cell_type": "code",
   "execution_count": 2,
   "metadata": {
    "collapsed": true
   },
   "outputs": [],
   "source": [
    "def answer_one():\n",
    "    \n",
    "    g = nx.read_adjlist('Employee_Movie_Choices.txt', delimiter='\\t')\n",
    "#     plt.figure(figsize=(10, 10))\n",
    "#     nx.draw_networkx(g)\n",
    "#     print('nodes: {}\\nedges: {}'.format(len(g.nodes()), len(g.edges()) ) )\n",
    "#     print(nx.bipartite.is_bipartite(g))\n",
    "\n",
    "    return g"
   ]
  },
  {
   "cell_type": "code",
   "execution_count": 3,
   "metadata": {
    "collapsed": true
   },
   "outputs": [],
   "source": [
    "def answer_two():\n",
    "    g = answer_one()\n",
    "    for i in employees:\n",
    "        g.add_node(i, type=\"employee\")\n",
    "    for i in movies:\n",
    "        g.add_node(i, type=\"movie\")\n",
    "#     print(g.nodes(data=True))\n",
    "    return g"
   ]
  },
  {
   "cell_type": "code",
   "execution_count": 4,
   "metadata": {
    "collapsed": true
   },
   "outputs": [],
   "source": [
    "def answer_three():\n",
    "    p = bipartite.weighted_projected_graph(answer_two(), employees)\n",
    "#     print(p.edges(data=True))\n",
    "    return p"
   ]
  },
  {
   "cell_type": "code",
   "execution_count": 5,
   "metadata": {
    "collapsed": true
   },
   "outputs": [],
   "source": [
    "def answer_four():\n",
    "\n",
    "    g = answer_three()\n",
    "    \n",
    "    common = pd.DataFrame(data=g.edges(data=True), columns=['emp1', 'emp2', 'numOfMovies'])\n",
    "    common['numOfMovies'] = common['numOfMovies'].apply(lambda x: x['weight'])\n",
    "    \n",
    "    h = nx.read_edgelist(path='Employee_Relationships.txt', data=[('relScore', int)], delimiter='\\t')\n",
    "    rel = pd.DataFrame(data=h.edges(data=True), columns=['emp1', 'emp2', 'score'])\n",
    "    rel['score'] = rel['score'].apply(lambda x: x['relScore'])\n",
    "    \n",
    "    merged = pd.merge(left=rel, right=common, how='left', left_on=['emp1','emp2'], right_on=['emp1','emp2'])\n",
    "    merged.fillna(value=0, inplace=True)\n",
    "    \n",
    "    corr = merged[['score','numOfMovies']].corr()\n",
    "    movieRelCorr = corr['score']['numOfMovies']\n",
    "    \n",
    "    return float(movieRelCorr)"
   ]
  },
  {
   "cell_type": "markdown",
   "metadata": {
    "collapsed": true
   },
   "source": [
    "EOF"
   ]
  }
 ],
 "metadata": {
  "coursera": {
   "course_slug": "python-social-network-analysis",
   "graded_item_id": "YNa9b",
   "launcher_item_id": "hvNc1",
   "part_id": "VbyiB"
  },
  "kernelspec": {
   "display_name": "Python 3",
   "language": "python",
   "name": "python3"
  },
  "language_info": {
   "codemirror_mode": {
    "name": "ipython",
    "version": 3
   },
   "file_extension": ".py",
   "mimetype": "text/x-python",
   "name": "python",
   "nbconvert_exporter": "python",
   "pygments_lexer": "ipython3",
   "version": "3.6.8"
  }
 },
 "nbformat": 4,
 "nbformat_minor": 2
}
