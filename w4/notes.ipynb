{
 "cells": [
  {
   "cell_type": "markdown",
   "metadata": {},
   "source": [
    "# Week 4"
   ]
  },
  {
   "cell_type": "code",
   "execution_count": 1,
   "metadata": {},
   "outputs": [],
   "source": [
    "import networkx as nx\n",
    "import matplotlib.pyplot as plt\n",
    "import pandas as pd\n",
    "\n",
    "from operator import itemgetter\n",
    "%matplotlib inline"
   ]
  },
  {
   "cell_type": "code",
   "execution_count": 2,
   "metadata": {},
   "outputs": [],
   "source": [
    "from operator import itemgetter\n",
    "\n",
    "def orderDict(x: dict, desc=True):\n",
    "    return sorted(x.items(), key=itemgetter(1), reverse=desc)"
   ]
  },
  {
   "cell_type": "markdown",
   "metadata": {},
   "source": [
    "### Degree Distribution"
   ]
  },
  {
   "cell_type": "markdown",
   "metadata": {},
   "source": [
    "The degree distribution, ```P(k)``` of a network is the number of nodes of degree ```k```, divided by the total number of nodes, i.e.:\n",
    "\n",
    "```P(k) = (# nodes with k-degree) / len(g.nodes())```"
   ]
  },
  {
   "cell_type": "markdown",
   "metadata": {},
   "source": [
    "###### # Example 1"
   ]
  },
  {
   "cell_type": "code",
   "execution_count": 3,
   "metadata": {},
   "outputs": [
    {
     "name": "stderr",
     "output_type": "stream",
     "text": [
      "/home/f4119597/.local/lib/python3.6/site-packages/networkx/drawing/nx_pylab.py:579: MatplotlibDeprecationWarning: \n",
      "The iterable function was deprecated in Matplotlib 3.1 and will be removed in 3.3. Use np.iterable instead.\n",
      "  if not cb.iterable(width):\n"
     ]
    },
    {
     "data": {
      "image/png": "[encoded data removed]",
      "text/plain": [
       "<Figure size 432x288 with 1 Axes>"
      ]
     },
     "metadata": {},
     "output_type": "display_data"
    }
   ],
   "source": [
    "g = nx.Graph()\n",
    "g.add_edges_from([\n",
    "    ('A', 'H'), ('H', 'G'), ('I', 'G'), ('I', 'F'), \n",
    "    ('A', 'G'), ('G', 'F'), ('A', 'B'), ('F', 'D'), \n",
    "    ('B', 'C'), ('D', 'C'), ('C', 'E')\n",
    "])\n",
    "\n",
    "pos = nx.kamada_kawai_layout(g)\n",
    "nx.draw_networkx(g, pos)"
   ]
  },
  {
   "cell_type": "code",
   "execution_count": 4,
   "metadata": {},
   "outputs": [
    {
     "data": {
      "text/plain": [
       "{'degrees': {'A': 3,\n",
       "  'H': 2,\n",
       "  'G': 4,\n",
       "  'I': 2,\n",
       "  'F': 3,\n",
       "  'B': 2,\n",
       "  'D': 2,\n",
       "  'C': 3,\n",
       "  'E': 1},\n",
       " 'sum': 22}"
      ]
     },
     "execution_count": 4,
     "metadata": {},
     "output_type": "execute_result"
    }
   ],
   "source": [
    "{'degrees': dict(g.degree()), 'sum': sum(dict(g.degree()).values())}"
   ]
  },
  {
   "cell_type": "code",
   "execution_count": 5,
   "metadata": {},
   "outputs": [
    {
     "data": {
      "text/plain": [
       "9"
      ]
     },
     "execution_count": 5,
     "metadata": {},
     "output_type": "execute_result"
    }
   ],
   "source": [
    "nodes_cnt = len(g.nodes())\n",
    "nodes_cnt"
   ]
  },
  {
   "cell_type": "code",
   "execution_count": 6,
   "metadata": {},
   "outputs": [
    {
     "data": {
      "text/plain": [
       "[1, 2, 3, 4]"
      ]
     },
     "execution_count": 6,
     "metadata": {},
     "output_type": "execute_result"
    }
   ],
   "source": [
    "dg_values = sorted(set(dict(g.degree()).values()))\n",
    "dg_values"
   ]
  },
  {
   "cell_type": "code",
   "execution_count": 7,
   "metadata": {},
   "outputs": [
    {
     "data": {
      "text/plain": [
       "4"
      ]
     },
     "execution_count": 7,
     "metadata": {},
     "output_type": "execute_result"
    }
   ],
   "source": [
    "higher_degree = orderDict(dict(g.degree()))[0][1]\n",
    "higher_degree"
   ]
  },
  {
   "cell_type": "code",
   "execution_count": 8,
   "metadata": {},
   "outputs": [
    {
     "data": {
      "text/plain": [
       "[3, 2, 4, 2, 3, 2, 2, 3, 1]"
      ]
     },
     "execution_count": 8,
     "metadata": {},
     "output_type": "execute_result"
    }
   ],
   "source": [
    "degrees = [degree for node, degree in g.degree()]\n",
    "degrees"
   ]
  },
  {
   "cell_type": "code",
   "execution_count": 9,
   "metadata": {},
   "outputs": [
    {
     "data": {
      "text/plain": [
       "{'1': 1, '2': 4, '3': 3, '4': 1}"
      ]
     },
     "execution_count": 9,
     "metadata": {},
     "output_type": "execute_result"
    }
   ],
   "source": [
    "dg_cnt = {}\n",
    "\n",
    "# We could start from degree zero, but we know theres no node with such degree\n",
    "for d in range(1, higher_degree + 1): \n",
    "    dg_cnt[str(d)] = degrees.count(d)\n",
    "\n",
    "dg_cnt"
   ]
  },
  {
   "cell_type": "code",
   "execution_count": 10,
   "metadata": {},
   "outputs": [
    {
     "data": {
      "text/plain": [
       "{'1': 0.1111111111111111,\n",
       " '2': 0.4444444444444444,\n",
       " '3': 0.3333333333333333,\n",
       " '4': 0.1111111111111111}"
      ]
     },
     "execution_count": 10,
     "metadata": {},
     "output_type": "execute_result"
    }
   ],
   "source": [
    "dg_dist = {}\n",
    "\n",
    "for dg, cnt in dg_cnt.items():\n",
    "    dg_dist[dg] = (cnt/nodes_cnt)\n",
    "\n",
    "dg_dist"
   ]
  },
  {
   "cell_type": "code",
   "execution_count": 11,
   "metadata": {},
   "outputs": [
    {
     "data": {
      "image/png": "[encoded data removed]",
      "text/plain": [
       "<Figure size 432x288 with 1 Axes>"
      ]
     },
     "metadata": {
      "needs_background": "light"
     },
     "output_type": "display_data"
    }
   ],
   "source": [
    "plt.bar(x=dg_cnt.keys(), height=dg_cnt.values())\n",
    "\n",
    "[i.set_color(\"red\") for i in plt.gca().get_xticklabels()]\n",
    "[i.set_color(\"red\") for i in plt.gca().get_yticklabels()]\n",
    "\n",
    "plt.xlabel('Degree').set_color(\"red\")\n",
    "plt.ylabel('Fraction of nodes').set_color(\"red\")\n"
   ]
  },
  {
   "cell_type": "markdown",
   "metadata": {},
   "source": [
    "###### # Example 2"
   ]
  },
  {
   "cell_type": "code",
   "execution_count": 12,
   "metadata": {},
   "outputs": [
    {
     "name": "stderr",
     "output_type": "stream",
     "text": [
      "/home/f4119597/.local/lib/python3.6/site-packages/networkx/drawing/nx_pylab.py:676: MatplotlibDeprecationWarning: \n",
      "The iterable function was deprecated in Matplotlib 3.1 and will be removed in 3.3. Use np.iterable instead.\n",
      "  if cb.iterable(node_size):  # many node sizes\n"
     ]
    },
    {
     "data": {
      "image/png": "[encoded data removed]",
      "text/plain": [
       "<Figure size 432x288 with 1 Axes>"
      ]
     },
     "metadata": {},
     "output_type": "display_data"
    }
   ],
   "source": [
    "g = nx.DiGraph()\n",
    "g.add_edges_from([\n",
    "    ('H', 'A'), ('H', 'D'), ('G', 'I'), ('F', 'I'), \n",
    "    ('G', 'A'), ('G', 'F'), ('F', 'D'), ('B', 'A'), \n",
    "    ('C', 'B'), ('D', 'C'), ('E', 'C')\n",
    "])\n",
    "\n",
    "pos = nx.kamada_kawai_layout(g)\n",
    "nx.draw_networkx(g, pos)"
   ]
  },
  {
   "cell_type": "markdown",
   "metadata": {},
   "source": [
    "Note that here, we have nodes with ```in-degree = 0```"
   ]
  },
  {
   "cell_type": "code",
   "execution_count": 13,
   "metadata": {},
   "outputs": [
    {
     "data": {
      "text/plain": [
       "9"
      ]
     },
     "execution_count": 13,
     "metadata": {},
     "output_type": "execute_result"
    }
   ],
   "source": [
    "num_of_nodes = nx.number_of_nodes(g)\n",
    "num_of_nodes"
   ]
  },
  {
   "cell_type": "code",
   "execution_count": 14,
   "metadata": {},
   "outputs": [
    {
     "data": {
      "text/plain": [
       "[0, 3, 2, 0, 2, 1, 1, 2, 0]"
      ]
     },
     "execution_count": 14,
     "metadata": {},
     "output_type": "execute_result"
    }
   ],
   "source": [
    "in_degrees_list = [degree for node, degree in g.in_degree()]\n",
    "in_degrees_list"
   ]
  },
  {
   "cell_type": "code",
   "execution_count": 15,
   "metadata": {},
   "outputs": [
    {
     "data": {
      "text/plain": [
       "3"
      ]
     },
     "execution_count": 15,
     "metadata": {},
     "output_type": "execute_result"
    }
   ],
   "source": [
    "higher_degree = orderDict(dict(g.degree()))[0][1]\n",
    "higher_degree"
   ]
  },
  {
   "cell_type": "code",
   "execution_count": 16,
   "metadata": {},
   "outputs": [
    {
     "data": {
      "text/plain": [
       "{'0': 3, '1': 2, '2': 3, '3': 1}"
      ]
     },
     "execution_count": 16,
     "metadata": {},
     "output_type": "execute_result"
    }
   ],
   "source": [
    "dg_cnt = {}\n",
    "for d in range(0, higher_degree + 1): \n",
    "    dg_cnt[str(d)] = in_degrees_list.count(d)\n",
    "\n",
    "dg_cnt"
   ]
  },
  {
   "cell_type": "code",
   "execution_count": 17,
   "metadata": {},
   "outputs": [
    {
     "data": {
      "text/plain": [
       "{'0': 0.3333333333333333,\n",
       " '1': 0.2222222222222222,\n",
       " '2': 0.3333333333333333,\n",
       " '3': 0.1111111111111111}"
      ]
     },
     "execution_count": 17,
     "metadata": {},
     "output_type": "execute_result"
    }
   ],
   "source": [
    "dg_dist = {}\n",
    "for dg, cnt in dg_cnt.items():\n",
    "    dg_dist[dg] = (cnt/nodes_cnt)\n",
    "\n",
    "dg_dist"
   ]
  },
  {
   "cell_type": "code",
   "execution_count": 18,
   "metadata": {},
   "outputs": [
    {
     "data": {
      "image/png": "[encoded data removed]",
      "text/plain": [
       "<Figure size 432x288 with 1 Axes>"
      ]
     },
     "metadata": {
      "needs_background": "light"
     },
     "output_type": "display_data"
    }
   ],
   "source": [
    "plt.bar(x=dg_cnt.keys(), height=dg_cnt.values())\n",
    "\n",
    "[i.set_color(\"red\") for i in plt.gca().get_xticklabels()]\n",
    "[i.set_color(\"red\") for i in plt.gca().get_yticklabels()]\n",
    "\n",
    "plt.xlabel('Degree').set_color(\"red\")\n",
    "plt.ylabel('Fraction of nodes').set_color(\"red\")"
   ]
  },
  {
   "cell_type": "markdown",
   "metadata": {},
   "source": [
    "### Power Law"
   ]
  },
  {
   "cell_type": "markdown",
   "metadata": {},
   "source": [
    "![power law](./media/powerlaw.png)"
   ]
  },
  {
   "cell_type": "markdown",
   "metadata": {},
   "source": [
    "Can we come up with a model that generates a network that has a power law like degree distribution?"
   ]
  },
  {
   "cell_type": "markdown",
   "metadata": {},
   "source": [
    "### Preferential Attachment Model"
   ]
  },
  {
   "cell_type": "markdown",
   "metadata": {},
   "source": [
    "- Start with 2 nodes at time ```k = 0```;\n",
    "\n",
    "- At each time ```k + 1```, add a new node with an edge connecting it to an existing node;\n",
    "\n",
    "\n",
    "- The probability of a new node ```v``` connecting to a node ```u``` of degree ```d(u)``` is:\n",
    "    ```d(u)/sum(g.degrees())```"
   ]
  },
  {
   "cell_type": "markdown",
   "metadata": {},
   "source": [
    "###### # Example 3"
   ]
  },
  {
   "cell_type": "markdown",
   "metadata": {},
   "source": [
    "![pref att model 1](./media/pamodel_01.png)"
   ]
  },
  {
   "cell_type": "code",
   "execution_count": 19,
   "metadata": {},
   "outputs": [
    {
     "data": {
      "text/plain": [
       "{'prob_of_1': 0.5, 'prob_of_2': 0.5}"
      ]
     },
     "execution_count": 19,
     "metadata": {},
     "output_type": "execute_result"
    }
   ],
   "source": [
    "degree_1 = 1\n",
    "degree_2 = 1\n",
    "sum_degree = 2\n",
    "\n",
    "# Probabilty of node 3 attaching to each node\n",
    "p_3_to_1 = round(degree_1/sum_degree, 2)\n",
    "p_3_to_2 = round(degree_2/sum_degree, 2)\n",
    "\n",
    "{'prob_of_1': p_3_to_1, 'prob_of_2': p_3_to_2}"
   ]
  },
  {
   "cell_type": "markdown",
   "metadata": {},
   "source": [
    "![pref att model 2](./media/pamodel_02.png)"
   ]
  },
  {
   "cell_type": "code",
   "execution_count": 20,
   "metadata": {},
   "outputs": [
    {
     "data": {
      "text/plain": [
       "{'prob_of_1': 0.25, 'prob_of_2': 0.5, 'prob_of_3': 0.25}"
      ]
     },
     "execution_count": 20,
     "metadata": {},
     "output_type": "execute_result"
    }
   ],
   "source": [
    "degree_1 = 1\n",
    "degree_2 = 2\n",
    "degree_3 = 1\n",
    "sum_degree = 4\n",
    "\n",
    "# Probabilty of node 4 attaching to node each node\n",
    "p_4_to_1 = round(degree_1/sum_degree, 2)\n",
    "p_4_to_2 = round(degree_2/sum_degree, 2)\n",
    "p_4_to_3 = round(degree_3/sum_degree, 2)\n",
    "\n",
    "{'prob_of_1': p_4_to_1, 'prob_of_2': p_4_to_2, 'prob_of_3': p_4_to_3}"
   ]
  },
  {
   "cell_type": "markdown",
   "metadata": {},
   "source": [
    "![pref att model 3](./media/pamodel_03.png)"
   ]
  },
  {
   "cell_type": "code",
   "execution_count": 21,
   "metadata": {},
   "outputs": [
    {
     "data": {
      "text/plain": [
       "{'prob_of_1': 0.17, 'prob_of_2': 0.33, 'prob_of_3': 0.33, 'prob_of_4': 0.33}"
      ]
     },
     "execution_count": 21,
     "metadata": {},
     "output_type": "execute_result"
    }
   ],
   "source": [
    "degree_1 = 1\n",
    "degree_2 = 2\n",
    "degree_3 = 2\n",
    "degree_4 = 1\n",
    "sum_degree = 6\n",
    "\n",
    "# Probabilty of node 5 attaching to node each node\n",
    "p_5_to_1 = round(degree_1/sum_degree, 2)\n",
    "p_5_to_2 = round(degree_2/sum_degree, 2)\n",
    "p_5_to_3 = round(degree_3/sum_degree, 2)\n",
    "p_5_to_4 = round(degree_4/sum_degree, 2)\n",
    "\n",
    "{'prob_of_1': p_5_to_1, 'prob_of_2': p_5_to_2,\n",
    " 'prob_of_3': p_5_to_3, 'prob_of_4': p_5_to_3}"
   ]
  },
  {
   "cell_type": "markdown",
   "metadata": {},
   "source": [
    "Few steps later..."
   ]
  },
  {
   "cell_type": "markdown",
   "metadata": {},
   "source": [
    "![pref att model 4](./media/pamodel_04.png)"
   ]
  },
  {
   "cell_type": "markdown",
   "metadata": {},
   "source": [
    "As the number of nodes increases, the degree distribution of the network under the Preferential Attachment Model approaches the Power Law \n",
    "\n",
    "```f(k) = C * k^(-3)```, with ```constant C```\n",
    "\n",
    "The Pref. Attachment Model produces networks with degree distributions similar to real networks. \"Rich Get Richer phenomenon\""
   ]
  },
  {
   "cell_type": "markdown",
   "metadata": {},
   "source": [
    "###### # Example 4"
   ]
  },
  {
   "cell_type": "code",
   "execution_count": 22,
   "metadata": {},
   "outputs": [
    {
     "data": {
      "image/png": "[encoded data removed]",
      "text/plain": [
       "<Figure size 432x288 with 1 Axes>"
      ]
     },
     "metadata": {},
     "output_type": "display_data"
    }
   ],
   "source": [
    "g = nx.barabasi_albert_graph(8, 1)\n",
    "pos = nx.kamada_kawai_layout(g)\n",
    "nx.draw_networkx(g, pos)"
   ]
  },
  {
   "cell_type": "markdown",
   "metadata": {},
   "source": [
    "###### # Example 5"
   ]
  },
  {
   "cell_type": "code",
   "execution_count": 23,
   "metadata": {},
   "outputs": [],
   "source": [
    "g = nx.barabasi_albert_graph(1000000, 1)"
   ]
  },
  {
   "cell_type": "code",
   "execution_count": 24,
   "metadata": {},
   "outputs": [],
   "source": [
    "degrees = dict(g.degree())"
   ]
  },
  {
   "cell_type": "code",
   "execution_count": 25,
   "metadata": {},
   "outputs": [],
   "source": [
    "degree_values = sorted(set(degrees.values()))"
   ]
  },
  {
   "cell_type": "code",
   "execution_count": 26,
   "metadata": {},
   "outputs": [],
   "source": [
    "histogram = [list(degrees.values()).count(i)/float(nx.number_of_nodes(g)) for i in degree_values]"
   ]
  },
  {
   "cell_type": "code",
   "execution_count": 27,
   "metadata": {},
   "outputs": [
    {
     "data": {
      "image/png": "[encoded data removed]",
      "text/plain": [
       "<Figure size 432x288 with 1 Axes>"
      ]
     },
     "metadata": {
      "needs_background": "light"
     },
     "output_type": "display_data"
    }
   ],
   "source": [
    "plt.plot(degree_values, histogram, 'o')\n",
    "\n",
    "[i.set_color(\"red\") for i in plt.gca().get_xticklabels()]\n",
    "[i.set_color(\"red\") for i in plt.gca().get_yticklabels()]\n",
    "\n",
    "\n",
    "plt.xlabel('Degree').set_color('red')\n",
    "plt.ylabel('Fraction of Nodes').set_color('red')\n",
    "plt.xscale('log')\n",
    "plt.yscale('log')\n",
    "plt.show()"
   ]
  },
  {
   "cell_type": "markdown",
   "metadata": {},
   "source": [
    "### More about the Power Law"
   ]
  },
  {
   "cell_type": "markdown",
   "metadata": {},
   "source": [
    "![more about power law](./media/article_01.png)"
   ]
  },
  {
   "cell_type": "markdown",
   "metadata": {},
   "source": [
    "[...] \"Just as normal distributions arise frommany independent random decisions averaging out, we will find that power laws arise from the feedback introduced by correlated decisions across a population.\""
   ]
  },
  {
   "cell_type": "markdown",
   "metadata": {},
   "source": [
    "### Milgram Small World Experiment"
   ]
  },
  {
   "cell_type": "markdown",
   "metadata": {},
   "source": [
    "Set up:\n",
    "- 296 Randomly chosen 'starters' asked to foward a letter to a 'target' \n",
    "- Target was a stockbroker in Boston\n",
    "\n",
    "Instructions:\n",
    "- Send letter to target if you know him on a first name basis\n",
    "- Else, send it to someone else along with the instructions"
   ]
  },
  {
   "cell_type": "markdown",
   "metadata": {},
   "source": [
    "Results:\n",
    "- 64/296 Letters reached the target\n",
    "- Median chain lenght was 6"
   ]
  },
  {
   "cell_type": "markdown",
   "metadata": {},
   "source": [
    "### Path Lenght and Clustering"
   ]
  },
  {
   "cell_type": "markdown",
   "metadata": {},
   "source": [
    "Social networks tend to have high ```clustering coeff``` and small average path lenght"
   ]
  },
  {
   "cell_type": "markdown",
   "metadata": {},
   "source": [
    "###### # Example 6"
   ]
  },
  {
   "cell_type": "code",
   "execution_count": 28,
   "metadata": {},
   "outputs": [],
   "source": [
    "g = nx.barabasi_albert_graph(1000, 4)"
   ]
  },
  {
   "cell_type": "code",
   "execution_count": 29,
   "metadata": {},
   "outputs": [
    {
     "data": {
      "text/plain": [
       "(0.03776831169649076, 3.1596296296296296)"
      ]
     },
     "execution_count": 29,
     "metadata": {},
     "output_type": "execute_result"
    }
   ],
   "source": [
    "# Note that the values may differ from the course cause \n",
    "# the generate network won't probably be the same\n",
    "nx.average_clustering(g), nx.average_shortest_path_length(g)"
   ]
  },
  {
   "cell_type": "markdown",
   "metadata": {},
   "source": [
    "###### # Example 7"
   ]
  },
  {
   "cell_type": "code",
   "execution_count": 30,
   "metadata": {},
   "outputs": [],
   "source": [
    "g2 = nx.barabasi_albert_graph(1000, 2)\n",
    "g4 = nx.barabasi_albert_graph(1000, 4)\n",
    "g6 = nx.barabasi_albert_graph(1000, 6)\n",
    "g8 = nx.barabasi_albert_graph(1000, 8)\n",
    "g10 = nx.barabasi_albert_graph(1000, 10)"
   ]
  },
  {
   "cell_type": "code",
   "execution_count": 31,
   "metadata": {},
   "outputs": [],
   "source": [
    "graphList = [g2, g4, g6, g8, g10]\n",
    "edges = [2, 4, 6, 8, 10]"
   ]
  },
  {
   "cell_type": "code",
   "execution_count": 32,
   "metadata": {},
   "outputs": [],
   "source": [
    "data = [(nx.average_clustering(g), nx.average_shortest_path_length(g)) for g in graphList]"
   ]
  },
  {
   "cell_type": "code",
   "execution_count": 33,
   "metadata": {},
   "outputs": [],
   "source": [
    "avg_clst = [m[0] for m in data]\n",
    "avg_sh_path = [m[1] for m in data]"
   ]
  },
  {
   "cell_type": "code",
   "execution_count": 34,
   "metadata": {},
   "outputs": [
    {
     "data": {
      "text/plain": [
       "<Figure size 432x288 with 0 Axes>"
      ]
     },
     "metadata": {},
     "output_type": "display_data"
    },
    {
     "data": {
      "image/png": "[encoded data removed]",
      "text/plain": [
       "<Figure size 720x576 with 2 Axes>"
      ]
     },
     "metadata": {
      "needs_background": "light"
     },
     "output_type": "display_data"
    }
   ],
   "source": [
    "plt.figure()\n",
    "\n",
    "plt.figure(figsize=(10, 8))\n",
    "plt.subplot(2, 1, 1)\n",
    "plt.plot(edges, avg_clst, 'x-', linewidth=2)\n",
    "plt.title('Average Clustering').set_color('red')\n",
    "# plt.xlabel('Edges').set_color('red')\n",
    "plt.ylabel('Clustering Coefficient', size=12).set_color('red')\n",
    "\n",
    "[i.set_color(\"red\") for i in plt.gca().get_xticklabels()]\n",
    "[i.set_color(\"red\") for i in plt.gca().get_yticklabels()]\n",
    "\n",
    "plt.subplot(2, 1, 2)\n",
    "plt.plot(edges, avg_sh_path, 'x-', linewidth=2)\n",
    "plt.title('Average Shortest Path').set_color('red')\n",
    "plt.xlabel('Edges').set_color('red')\n",
    "plt.ylabel('Lenght of shortest path', size=12).set_color('red')\n",
    "\n",
    "[i.set_color(\"red\") for i in plt.gca().get_xticklabels()]\n",
    "[i.set_color(\"red\") for i in plt.gca().get_yticklabels()]\n",
    "\n",
    "plt.show()"
   ]
  },
  {
   "cell_type": "markdown",
   "metadata": {},
   "source": [
    "![average measures](./media/avg.png)"
   ]
  },
  {
   "cell_type": "markdown",
   "metadata": {},
   "source": [
    "### Small World Model"
   ]
  },
  {
   "cell_type": "markdown",
   "metadata": {},
   "source": [
    "Real networks exhibit high clustering coefficient and small average shortest pahts\n",
    "\n",
    "Small-world model:\n",
    "- Start with a ring of ```n``` nodes, where each node is connected to its ```k``` nearest neighbors\n",
    "- Fix a parameter ```p``` in ```[0,1]```\n",
    "- Consider each edge ```(u, v)```. With probability ```p```, select a node ```w``` at random and rewire the edge ```(u, v)``` to ```(u, w)```"
   ]
  },
  {
   "cell_type": "markdown",
   "metadata": {},
   "source": [
    "![small world model measures](./media/swmodel.png)"
   ]
  },
  {
   "cell_type": "markdown",
   "metadata": {},
   "source": [
    "###### # Example 8"
   ]
  },
  {
   "cell_type": "code",
   "execution_count": 35,
   "metadata": {},
   "outputs": [],
   "source": [
    "g = nx.watts_strogatz_graph(n=1000, k=6, p=0.04)"
   ]
  },
  {
   "cell_type": "code",
   "execution_count": 36,
   "metadata": {},
   "outputs": [
    {
     "data": {
      "text/plain": [
       "(8.457427427427428, 0.531397619047625)"
      ]
     },
     "execution_count": 36,
     "metadata": {},
     "output_type": "execute_result"
    }
   ],
   "source": [
    "nx.average_shortest_path_length(g), nx.average_clustering(g)"
   ]
  },
  {
   "cell_type": "code",
   "execution_count": 37,
   "metadata": {},
   "outputs": [
    {
     "data": {
      "text/plain": [
       "True"
      ]
     },
     "execution_count": 37,
     "metadata": {},
     "output_type": "execute_result"
    }
   ],
   "source": [
    "nx.is_connected(g)"
   ]
  },
  {
   "cell_type": "markdown",
   "metadata": {},
   "source": [
    "Theres a chance that the generated network can me disconnected, and to ensure that it has only one connected component, we may use another method"
   ]
  },
  {
   "cell_type": "markdown",
   "metadata": {},
   "source": [
    "###### # Example 9"
   ]
  },
  {
   "cell_type": "code",
   "execution_count": 38,
   "metadata": {},
   "outputs": [],
   "source": [
    "# Runs the algorithm up to 't' times, until it returns a conected small world network\n",
    "g = nx.connected_watts_strogatz_graph(n=1000, k=6, p=0.04, tries=2)"
   ]
  },
  {
   "cell_type": "code",
   "execution_count": 39,
   "metadata": {},
   "outputs": [
    {
     "data": {
      "text/plain": [
       "True"
      ]
     },
     "execution_count": 39,
     "metadata": {},
     "output_type": "execute_result"
    }
   ],
   "source": [
    "nx.is_connected(g)"
   ]
  },
  {
   "cell_type": "code",
   "execution_count": 40,
   "metadata": {},
   "outputs": [
    {
     "data": {
      "text/plain": [
       "(8.582502502502502, 0.5342309523809593)"
      ]
     },
     "execution_count": 40,
     "metadata": {},
     "output_type": "execute_result"
    }
   ],
   "source": [
    "nx.average_shortest_path_length(g), nx.average_clustering(g)"
   ]
  },
  {
   "cell_type": "markdown",
   "metadata": {},
   "source": [
    "###### # Example 10"
   ]
  },
  {
   "cell_type": "code",
   "execution_count": 41,
   "metadata": {},
   "outputs": [],
   "source": [
    "# Runs a similar model to the small world network, but rather then rewiring, new edges\n",
    "# are added with probability 'p'\n",
    "g = nx.newman_watts_strogatz_graph(n=1000, k=6, p=0.04)"
   ]
  },
  {
   "cell_type": "code",
   "execution_count": 42,
   "metadata": {},
   "outputs": [
    {
     "data": {
      "text/plain": [
       "True"
      ]
     },
     "execution_count": 42,
     "metadata": {},
     "output_type": "execute_result"
    }
   ],
   "source": [
    "nx.is_connected(g)"
   ]
  },
  {
   "cell_type": "code",
   "execution_count": 43,
   "metadata": {},
   "outputs": [
    {
     "data": {
      "text/plain": [
       "(7.727675675675676, 0.555600000000009)"
      ]
     },
     "execution_count": 43,
     "metadata": {},
     "output_type": "execute_result"
    }
   ],
   "source": [
    "nx.average_shortest_path_length(g), nx.average_clustering(g)"
   ]
  },
  {
   "cell_type": "markdown",
   "metadata": {},
   "source": [
    "### Common neighbors\n",
    "We define it as ```common(X,Y) = |N(X) inter N(Y)|```,\n",
    "where N(X) is the set of neighbors of node X"
   ]
  },
  {
   "cell_type": "markdown",
   "metadata": {},
   "source": [
    "###### # Example 1"
   ]
  },
  {
   "cell_type": "code",
   "execution_count": 44,
   "metadata": {},
   "outputs": [],
   "source": [
    "g = nx.Graph()\n",
    "g.add_edges_from(\n",
    "    [\n",
    "        ('A', 'B'), ('B', 'C'), ('B', 'D'), ('A', 'D'), \n",
    "        ('D', 'C'), ('A', 'E'), ('C', 'F'), ('E', 'F'), \n",
    "        ('E', 'G'), ('F', 'G'), ('G', 'H'), ('G', 'I')\n",
    "    ]\n",
    ")"
   ]
  },
  {
   "cell_type": "code",
   "execution_count": 45,
   "metadata": {},
   "outputs": [
    {
     "data": {
      "image/png": "[encoded data removed]",
      "text/plain": [
       "<Figure size 432x288 with 1 Axes>"
      ]
     },
     "metadata": {},
     "output_type": "display_data"
    }
   ],
   "source": [
    "pos = nx.kamada_kawai_layout(g)\n",
    "nx.draw_networkx(g, pos)"
   ]
  },
  {
   "cell_type": "code",
   "execution_count": 46,
   "metadata": {},
   "outputs": [
    {
     "data": {
      "text/plain": [
       "['G']"
      ]
     },
     "execution_count": 46,
     "metadata": {},
     "output_type": "execute_result"
    }
   ],
   "source": [
    "list(nx.common_neighbors(g, 'H', 'I'))"
   ]
  },
  {
   "cell_type": "code",
   "execution_count": 47,
   "metadata": {},
   "outputs": [
    {
     "data": {
      "text/plain": [
       "['B', 'D']"
      ]
     },
     "execution_count": 47,
     "metadata": {},
     "output_type": "execute_result"
    }
   ],
   "source": [
    "list(nx.common_neighbors(g, 'C', 'A'))"
   ]
  },
  {
   "cell_type": "code",
   "execution_count": 6,
   "metadata": {},
   "outputs": [
    {
     "data": {
      "text/plain": [
       "(['E'], [])"
      ]
     },
     "execution_count": 6,
     "metadata": {},
     "output_type": "execute_result"
    }
   ],
   "source": [
    "(\n",
    "    list(nx.common_neighbors(g, 'G', 'A')),\n",
    "    list(nx.common_neighbors(g, 'I', 'A'))\n",
    ")"
   ]
  },
  {
   "cell_type": "code",
   "execution_count": 7,
   "metadata": {},
   "outputs": [
    {
     "data": {
      "text/plain": [
       "[('A', 'H', 0), ('A', 'G', 1), ('A', 'C', 2), ('A', 'F', 1), ('A', 'I', 0)]"
      ]
     },
     "execution_count": 7,
     "metadata": {},
     "output_type": "execute_result"
    }
   ],
   "source": [
    "# all common neighbors\n",
    "comm_neig = [(e[0], e[1], len(list(nx.common_neighbors(g, e[0], e[1])))) for e in nx.non_edges(g)]\n",
    "\n",
    "comm_neig[:5]"
   ]
  },
  {
   "cell_type": "code",
   "execution_count": 8,
   "metadata": {},
   "outputs": [
    {
     "data": {
      "text/plain": [
       "[('A', 'C', 2), ('A', 'G', 1), ('A', 'F', 1), ('H', 'E', 1), ('H', 'F', 1)]"
      ]
     },
     "execution_count": 8,
     "metadata": {},
     "output_type": "execute_result"
    }
   ],
   "source": [
    "sorted(comm_neig, key=itemgetter(2), reverse=True)[:5]"
   ]
  },
  {
   "cell_type": "markdown",
   "metadata": {},
   "source": [
    "### Jaccard Coefficient"
   ]
  },
  {
   "cell_type": "markdown",
   "metadata": {},
   "source": [
    "Number of neighbors normalized by the total number of neighbors"
   ]
  },
  {
   "cell_type": "code",
   "execution_count": 9,
   "metadata": {},
   "outputs": [
    {
     "data": {
      "text/plain": [
       "[('H', 'I', 1.0),\n",
       " ('A', 'C', 0.5),\n",
       " ('H', 'E', 0.3333333333333333),\n",
       " ('H', 'F', 0.3333333333333333),\n",
       " ('E', 'I', 0.3333333333333333)]"
      ]
     },
     "execution_count": 9,
     "metadata": {},
     "output_type": "execute_result"
    }
   ],
   "source": [
    "sorted(list(nx.jaccard_coefficient(g)), key=itemgetter(2), reverse=True)[:5]"
   ]
  },
  {
   "cell_type": "markdown",
   "metadata": {},
   "source": [
    "### Resource Allocation Index"
   ]
  },
  {
   "cell_type": "markdown",
   "metadata": {},
   "source": [
    "Fraction of a 'resource' that a node can send to another through their common neighbors"
   ]
  },
  {
   "cell_type": "code",
   "execution_count": 10,
   "metadata": {},
   "outputs": [
    {
     "data": {
      "image/png": "[encoded data removed]",
      "text/plain": [
       "<Figure size 432x288 with 1 Axes>"
      ]
     },
     "metadata": {},
     "output_type": "display_data"
    }
   ],
   "source": [
    "_g = nx.Graph()\n",
    "_g.add_edges_from([('X', 'Z'), ('Z', 'Y'), \n",
    "                   ('Z', '...'), ('Z', '....'),\n",
    "                   ('Z', '.....'), ('Z', '......'),\n",
    "                   ('Z', '.......'), ])\n",
    "\n",
    "nx.draw_networkx(_g, nx.kamada_kawai_layout(_g))"
   ]
  },
  {
   "cell_type": "markdown",
   "metadata": {},
   "source": [
    "```X``` wants to sends 1 unit of information to ```Y```;\n",
    "\n",
    "```X``` gives ```1/degree(X)``` to each of its neighbors;\n",
    "\n",
    "```Z``` receives ```1/degree(X)``` of that information;\n",
    "\n",
    "```Z``` fowards ```(1/degree(X))/degree(Z)``` to ```Y```"
   ]
  },
  {
   "cell_type": "code",
   "execution_count": null,
   "metadata": {},
   "outputs": [],
   "source": []
  },
  {
   "cell_type": "code",
   "execution_count": null,
   "metadata": {},
   "outputs": [],
   "source": []
  },
  {
   "cell_type": "code",
   "execution_count": null,
   "metadata": {},
   "outputs": [],
   "source": []
  }
 ],
 "metadata": {
  "kernelspec": {
   "display_name": "Python 3",
   "language": "python",
   "name": "python3"
  },
  "language_info": {
   "codemirror_mode": {
    "name": "ipython",
    "version": 3
   },
   "file_extension": ".py",
   "mimetype": "text/x-python",
   "name": "python",
   "nbconvert_exporter": "python",
   "pygments_lexer": "ipython3",
   "version": "3.6.8"
  }
 },
 "nbformat": 4,
 "nbformat_minor": 2
}
